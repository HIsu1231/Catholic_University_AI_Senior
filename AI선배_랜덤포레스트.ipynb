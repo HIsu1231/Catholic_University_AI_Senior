{
  "nbformat": 4,
  "nbformat_minor": 0,
  "metadata": {
    "colab": {
      "name": "AI선배_랜덤포레스트.ipynb",
      "provenance": [],
      "include_colab_link": true
    },
    "kernelspec": {
      "name": "python3",
      "display_name": "Python 3"
    },
    "language_info": {
      "name": "python"
    }
  },
  "cells": [
    {
      "cell_type": "markdown",
      "metadata": {
        "id": "view-in-github",
        "colab_type": "text"
      },
      "source": [
        "<a href=\"https://colab.research.google.com/github/HIsu1231/Catholic_University_AI_Senior/blob/main/AI%EC%84%A0%EB%B0%B0_%EB%9E%9C%EB%8D%A4%ED%8F%AC%EB%A0%88%EC%8A%A4%ED%8A%B8.ipynb\" target=\"_parent\"><img src=\"https://colab.research.google.com/assets/colab-badge.svg\" alt=\"Open In Colab\"/></a>"
      ]
    },
    {
      "cell_type": "code",
      "source": [
        "from google.colab import drive\n",
        "drive.mount('/content/drive')"
      ],
      "metadata": {
        "colab": {
          "base_uri": "https://localhost:8080/"
        },
        "id": "IIoyzkdja5YH",
        "outputId": "38346740-ec17-4bf8-a7a9-1c1c26af01ef"
      },
      "execution_count": null,
      "outputs": [
        {
          "output_type": "stream",
          "name": "stdout",
          "text": [
            "Mounted at /content/drive\n"
          ]
        }
      ]
    },
    {
      "cell_type": "code",
      "execution_count": null,
      "metadata": {
        "id": "kKQIQdTTezpZ"
      },
      "outputs": [],
      "source": [
        "import pandas as pd\n",
        "import numpy as np\n",
        "from sklearn.model_selection import train_test_split\n",
        "from sklearn.ensemble import RandomForestClassifier\n",
        "from sklearn import metrics\n",
        "\n",
        "df = pd.read_csv('/content/drive/MyDrive/AI선배/AI data/220529_3학년1학기_전처리최종_ai선배_v3.0_노수민.csv', index_col=0)"
      ]
    },
    {
      "cell_type": "code",
      "source": [
        "df"
      ],
      "metadata": {
        "id": "U5Swy88efXVC",
        "colab": {
          "base_uri": "https://localhost:8080/",
          "height": 520
        },
        "outputId": "be1a29ed-0afd-4491-d3f7-6e7490a1735b"
      },
      "execution_count": null,
      "outputs": [
        {
          "output_type": "execute_result",
          "data": {
            "text/plain": [
              "       출생년도  성별     학부/과코드     제1전공코드     제2전공코드  입학년도  입학구분  전형구분  세부전형정보  \\\n",
              "0      1974   1  220000014  240000039  240000004  1998   1.0     5       3   \n",
              "1      1973   2  230000016  555555555  666666666  1992   0.0     5       3   \n",
              "2      1972   2  230000016  555555555  666666666  1992   0.0     5       3   \n",
              "3      1973   2  230000016  555555555  666666666  1992   0.0     5       3   \n",
              "4      1978   2  220000005  240000012  240000004  1998   1.0     5       3   \n",
              "...     ...  ..        ...        ...        ...   ...   ...   ...     ...   \n",
              "36292  2000   2  220000330  230000356  240000004  2018   0.0     2      14   \n",
              "36293  1999   2  220000328  230000349  230000347  2019   0.0     4      28   \n",
              "36294  1999   2  220000328  230000349  240000004  2019   0.0    12       9   \n",
              "36295  1995   1  220000327  230000342  240000004  2014   0.0     2       5   \n",
              "36296  2000   2  220000330  230000357  230000342  2019   0.0     2      29   \n",
              "\n",
              "       동아리  ...  공통_영어평균  공통_종교평균  공통_팀플평균  공통_봉사평균  공통_1학년과목평균  label  \\\n",
              "0        0  ...     0.00      0.0        0        0        0.00      0   \n",
              "1        0  ...     2.50      0.0        0        0        0.00      0   \n",
              "2        0  ...     2.50      0.0        0        0        0.00      0   \n",
              "3        0  ...     3.50      0.0        0        0        0.00      0   \n",
              "4        0  ...     0.00      0.0        0        0        0.00      0   \n",
              "...    ...  ...      ...      ...      ...      ...         ...    ...   \n",
              "36292    1  ...     4.00      4.5        4        4        3.50      0   \n",
              "36293    1  ...     3.50      4.5        4        4        4.00      0   \n",
              "36294    0  ...     4.25      4.5        4        4        4.50      0   \n",
              "36295    0  ...     2.50      2.5        4        0        3.25      0   \n",
              "36296    1  ...     3.00      4.5        2        4        3.50      0   \n",
              "\n",
              "          출신고교_전처리  출신고교지역_전처리  출신고교인덱스  출신고교지역인덱스  \n",
              "0              광신고        정보없음     3026         11  \n",
              "1             숙명여고        정보없음      390         11  \n",
              "2             경기여고        정보없음      764         11  \n",
              "3             동덕여고        정보없음     2646         11  \n",
              "4             양천여고        정보없음     2170         11  \n",
              "...            ...         ...      ...        ...  \n",
              "36292       구암고등학교       서울특별시      407         18  \n",
              "36293   제주중앙여자고등학교         제주도     1966          7  \n",
              "36294  Nguyen Trai       서울특별시     2357         18  \n",
              "36295       강릉고등학교         강원도     2417          5  \n",
              "36296       죽변고등학교        경상북도     2869          4  \n",
              "\n",
              "[36297 rows x 30 columns]"
            ],
            "text/html": [
              "\n",
              "  <div id=\"df-3dbd6436-8f5a-4b96-ae8c-98231621923a\">\n",
              "    <div class=\"colab-df-container\">\n",
              "      <div>\n",
              "<style scoped>\n",
              "    .dataframe tbody tr th:only-of-type {\n",
              "        vertical-align: middle;\n",
              "    }\n",
              "\n",
              "    .dataframe tbody tr th {\n",
              "        vertical-align: top;\n",
              "    }\n",
              "\n",
              "    .dataframe thead th {\n",
              "        text-align: right;\n",
              "    }\n",
              "</style>\n",
              "<table border=\"1\" class=\"dataframe\">\n",
              "  <thead>\n",
              "    <tr style=\"text-align: right;\">\n",
              "      <th></th>\n",
              "      <th>출생년도</th>\n",
              "      <th>성별</th>\n",
              "      <th>학부/과코드</th>\n",
              "      <th>제1전공코드</th>\n",
              "      <th>제2전공코드</th>\n",
              "      <th>입학년도</th>\n",
              "      <th>입학구분</th>\n",
              "      <th>전형구분</th>\n",
              "      <th>세부전형정보</th>\n",
              "      <th>동아리</th>\n",
              "      <th>...</th>\n",
              "      <th>공통_영어평균</th>\n",
              "      <th>공통_종교평균</th>\n",
              "      <th>공통_팀플평균</th>\n",
              "      <th>공통_봉사평균</th>\n",
              "      <th>공통_1학년과목평균</th>\n",
              "      <th>label</th>\n",
              "      <th>출신고교_전처리</th>\n",
              "      <th>출신고교지역_전처리</th>\n",
              "      <th>출신고교인덱스</th>\n",
              "      <th>출신고교지역인덱스</th>\n",
              "    </tr>\n",
              "  </thead>\n",
              "  <tbody>\n",
              "    <tr>\n",
              "      <th>0</th>\n",
              "      <td>1974</td>\n",
              "      <td>1</td>\n",
              "      <td>220000014</td>\n",
              "      <td>240000039</td>\n",
              "      <td>240000004</td>\n",
              "      <td>1998</td>\n",
              "      <td>1.0</td>\n",
              "      <td>5</td>\n",
              "      <td>3</td>\n",
              "      <td>0</td>\n",
              "      <td>...</td>\n",
              "      <td>0.00</td>\n",
              "      <td>0.0</td>\n",
              "      <td>0</td>\n",
              "      <td>0</td>\n",
              "      <td>0.00</td>\n",
              "      <td>0</td>\n",
              "      <td>광신고</td>\n",
              "      <td>정보없음</td>\n",
              "      <td>3026</td>\n",
              "      <td>11</td>\n",
              "    </tr>\n",
              "    <tr>\n",
              "      <th>1</th>\n",
              "      <td>1973</td>\n",
              "      <td>2</td>\n",
              "      <td>230000016</td>\n",
              "      <td>555555555</td>\n",
              "      <td>666666666</td>\n",
              "      <td>1992</td>\n",
              "      <td>0.0</td>\n",
              "      <td>5</td>\n",
              "      <td>3</td>\n",
              "      <td>0</td>\n",
              "      <td>...</td>\n",
              "      <td>2.50</td>\n",
              "      <td>0.0</td>\n",
              "      <td>0</td>\n",
              "      <td>0</td>\n",
              "      <td>0.00</td>\n",
              "      <td>0</td>\n",
              "      <td>숙명여고</td>\n",
              "      <td>정보없음</td>\n",
              "      <td>390</td>\n",
              "      <td>11</td>\n",
              "    </tr>\n",
              "    <tr>\n",
              "      <th>2</th>\n",
              "      <td>1972</td>\n",
              "      <td>2</td>\n",
              "      <td>230000016</td>\n",
              "      <td>555555555</td>\n",
              "      <td>666666666</td>\n",
              "      <td>1992</td>\n",
              "      <td>0.0</td>\n",
              "      <td>5</td>\n",
              "      <td>3</td>\n",
              "      <td>0</td>\n",
              "      <td>...</td>\n",
              "      <td>2.50</td>\n",
              "      <td>0.0</td>\n",
              "      <td>0</td>\n",
              "      <td>0</td>\n",
              "      <td>0.00</td>\n",
              "      <td>0</td>\n",
              "      <td>경기여고</td>\n",
              "      <td>정보없음</td>\n",
              "      <td>764</td>\n",
              "      <td>11</td>\n",
              "    </tr>\n",
              "    <tr>\n",
              "      <th>3</th>\n",
              "      <td>1973</td>\n",
              "      <td>2</td>\n",
              "      <td>230000016</td>\n",
              "      <td>555555555</td>\n",
              "      <td>666666666</td>\n",
              "      <td>1992</td>\n",
              "      <td>0.0</td>\n",
              "      <td>5</td>\n",
              "      <td>3</td>\n",
              "      <td>0</td>\n",
              "      <td>...</td>\n",
              "      <td>3.50</td>\n",
              "      <td>0.0</td>\n",
              "      <td>0</td>\n",
              "      <td>0</td>\n",
              "      <td>0.00</td>\n",
              "      <td>0</td>\n",
              "      <td>동덕여고</td>\n",
              "      <td>정보없음</td>\n",
              "      <td>2646</td>\n",
              "      <td>11</td>\n",
              "    </tr>\n",
              "    <tr>\n",
              "      <th>4</th>\n",
              "      <td>1978</td>\n",
              "      <td>2</td>\n",
              "      <td>220000005</td>\n",
              "      <td>240000012</td>\n",
              "      <td>240000004</td>\n",
              "      <td>1998</td>\n",
              "      <td>1.0</td>\n",
              "      <td>5</td>\n",
              "      <td>3</td>\n",
              "      <td>0</td>\n",
              "      <td>...</td>\n",
              "      <td>0.00</td>\n",
              "      <td>0.0</td>\n",
              "      <td>0</td>\n",
              "      <td>0</td>\n",
              "      <td>0.00</td>\n",
              "      <td>0</td>\n",
              "      <td>양천여고</td>\n",
              "      <td>정보없음</td>\n",
              "      <td>2170</td>\n",
              "      <td>11</td>\n",
              "    </tr>\n",
              "    <tr>\n",
              "      <th>...</th>\n",
              "      <td>...</td>\n",
              "      <td>...</td>\n",
              "      <td>...</td>\n",
              "      <td>...</td>\n",
              "      <td>...</td>\n",
              "      <td>...</td>\n",
              "      <td>...</td>\n",
              "      <td>...</td>\n",
              "      <td>...</td>\n",
              "      <td>...</td>\n",
              "      <td>...</td>\n",
              "      <td>...</td>\n",
              "      <td>...</td>\n",
              "      <td>...</td>\n",
              "      <td>...</td>\n",
              "      <td>...</td>\n",
              "      <td>...</td>\n",
              "      <td>...</td>\n",
              "      <td>...</td>\n",
              "      <td>...</td>\n",
              "      <td>...</td>\n",
              "    </tr>\n",
              "    <tr>\n",
              "      <th>36292</th>\n",
              "      <td>2000</td>\n",
              "      <td>2</td>\n",
              "      <td>220000330</td>\n",
              "      <td>230000356</td>\n",
              "      <td>240000004</td>\n",
              "      <td>2018</td>\n",
              "      <td>0.0</td>\n",
              "      <td>2</td>\n",
              "      <td>14</td>\n",
              "      <td>1</td>\n",
              "      <td>...</td>\n",
              "      <td>4.00</td>\n",
              "      <td>4.5</td>\n",
              "      <td>4</td>\n",
              "      <td>4</td>\n",
              "      <td>3.50</td>\n",
              "      <td>0</td>\n",
              "      <td>구암고등학교</td>\n",
              "      <td>서울특별시</td>\n",
              "      <td>407</td>\n",
              "      <td>18</td>\n",
              "    </tr>\n",
              "    <tr>\n",
              "      <th>36293</th>\n",
              "      <td>1999</td>\n",
              "      <td>2</td>\n",
              "      <td>220000328</td>\n",
              "      <td>230000349</td>\n",
              "      <td>230000347</td>\n",
              "      <td>2019</td>\n",
              "      <td>0.0</td>\n",
              "      <td>4</td>\n",
              "      <td>28</td>\n",
              "      <td>1</td>\n",
              "      <td>...</td>\n",
              "      <td>3.50</td>\n",
              "      <td>4.5</td>\n",
              "      <td>4</td>\n",
              "      <td>4</td>\n",
              "      <td>4.00</td>\n",
              "      <td>0</td>\n",
              "      <td>제주중앙여자고등학교</td>\n",
              "      <td>제주도</td>\n",
              "      <td>1966</td>\n",
              "      <td>7</td>\n",
              "    </tr>\n",
              "    <tr>\n",
              "      <th>36294</th>\n",
              "      <td>1999</td>\n",
              "      <td>2</td>\n",
              "      <td>220000328</td>\n",
              "      <td>230000349</td>\n",
              "      <td>240000004</td>\n",
              "      <td>2019</td>\n",
              "      <td>0.0</td>\n",
              "      <td>12</td>\n",
              "      <td>9</td>\n",
              "      <td>0</td>\n",
              "      <td>...</td>\n",
              "      <td>4.25</td>\n",
              "      <td>4.5</td>\n",
              "      <td>4</td>\n",
              "      <td>4</td>\n",
              "      <td>4.50</td>\n",
              "      <td>0</td>\n",
              "      <td>Nguyen Trai</td>\n",
              "      <td>서울특별시</td>\n",
              "      <td>2357</td>\n",
              "      <td>18</td>\n",
              "    </tr>\n",
              "    <tr>\n",
              "      <th>36295</th>\n",
              "      <td>1995</td>\n",
              "      <td>1</td>\n",
              "      <td>220000327</td>\n",
              "      <td>230000342</td>\n",
              "      <td>240000004</td>\n",
              "      <td>2014</td>\n",
              "      <td>0.0</td>\n",
              "      <td>2</td>\n",
              "      <td>5</td>\n",
              "      <td>0</td>\n",
              "      <td>...</td>\n",
              "      <td>2.50</td>\n",
              "      <td>2.5</td>\n",
              "      <td>4</td>\n",
              "      <td>0</td>\n",
              "      <td>3.25</td>\n",
              "      <td>0</td>\n",
              "      <td>강릉고등학교</td>\n",
              "      <td>강원도</td>\n",
              "      <td>2417</td>\n",
              "      <td>5</td>\n",
              "    </tr>\n",
              "    <tr>\n",
              "      <th>36296</th>\n",
              "      <td>2000</td>\n",
              "      <td>2</td>\n",
              "      <td>220000330</td>\n",
              "      <td>230000357</td>\n",
              "      <td>230000342</td>\n",
              "      <td>2019</td>\n",
              "      <td>0.0</td>\n",
              "      <td>2</td>\n",
              "      <td>29</td>\n",
              "      <td>1</td>\n",
              "      <td>...</td>\n",
              "      <td>3.00</td>\n",
              "      <td>4.5</td>\n",
              "      <td>2</td>\n",
              "      <td>4</td>\n",
              "      <td>3.50</td>\n",
              "      <td>0</td>\n",
              "      <td>죽변고등학교</td>\n",
              "      <td>경상북도</td>\n",
              "      <td>2869</td>\n",
              "      <td>4</td>\n",
              "    </tr>\n",
              "  </tbody>\n",
              "</table>\n",
              "<p>36297 rows × 30 columns</p>\n",
              "</div>\n",
              "      <button class=\"colab-df-convert\" onclick=\"convertToInteractive('df-3dbd6436-8f5a-4b96-ae8c-98231621923a')\"\n",
              "              title=\"Convert this dataframe to an interactive table.\"\n",
              "              style=\"display:none;\">\n",
              "        \n",
              "  <svg xmlns=\"http://www.w3.org/2000/svg\" height=\"24px\"viewBox=\"0 0 24 24\"\n",
              "       width=\"24px\">\n",
              "    <path d=\"M0 0h24v24H0V0z\" fill=\"none\"/>\n",
              "    <path d=\"M18.56 5.44l.94 2.06.94-2.06 2.06-.94-2.06-.94-.94-2.06-.94 2.06-2.06.94zm-11 1L8.5 8.5l.94-2.06 2.06-.94-2.06-.94L8.5 2.5l-.94 2.06-2.06.94zm10 10l.94 2.06.94-2.06 2.06-.94-2.06-.94-.94-2.06-.94 2.06-2.06.94z\"/><path d=\"M17.41 7.96l-1.37-1.37c-.4-.4-.92-.59-1.43-.59-.52 0-1.04.2-1.43.59L10.3 9.45l-7.72 7.72c-.78.78-.78 2.05 0 2.83L4 21.41c.39.39.9.59 1.41.59.51 0 1.02-.2 1.41-.59l7.78-7.78 2.81-2.81c.8-.78.8-2.07 0-2.86zM5.41 20L4 18.59l7.72-7.72 1.47 1.35L5.41 20z\"/>\n",
              "  </svg>\n",
              "      </button>\n",
              "      \n",
              "  <style>\n",
              "    .colab-df-container {\n",
              "      display:flex;\n",
              "      flex-wrap:wrap;\n",
              "      gap: 12px;\n",
              "    }\n",
              "\n",
              "    .colab-df-convert {\n",
              "      background-color: #E8F0FE;\n",
              "      border: none;\n",
              "      border-radius: 50%;\n",
              "      cursor: pointer;\n",
              "      display: none;\n",
              "      fill: #1967D2;\n",
              "      height: 32px;\n",
              "      padding: 0 0 0 0;\n",
              "      width: 32px;\n",
              "    }\n",
              "\n",
              "    .colab-df-convert:hover {\n",
              "      background-color: #E2EBFA;\n",
              "      box-shadow: 0px 1px 2px rgba(60, 64, 67, 0.3), 0px 1px 3px 1px rgba(60, 64, 67, 0.15);\n",
              "      fill: #174EA6;\n",
              "    }\n",
              "\n",
              "    [theme=dark] .colab-df-convert {\n",
              "      background-color: #3B4455;\n",
              "      fill: #D2E3FC;\n",
              "    }\n",
              "\n",
              "    [theme=dark] .colab-df-convert:hover {\n",
              "      background-color: #434B5C;\n",
              "      box-shadow: 0px 1px 3px 1px rgba(0, 0, 0, 0.15);\n",
              "      filter: drop-shadow(0px 1px 2px rgba(0, 0, 0, 0.3));\n",
              "      fill: #FFFFFF;\n",
              "    }\n",
              "  </style>\n",
              "\n",
              "      <script>\n",
              "        const buttonEl =\n",
              "          document.querySelector('#df-3dbd6436-8f5a-4b96-ae8c-98231621923a button.colab-df-convert');\n",
              "        buttonEl.style.display =\n",
              "          google.colab.kernel.accessAllowed ? 'block' : 'none';\n",
              "\n",
              "        async function convertToInteractive(key) {\n",
              "          const element = document.querySelector('#df-3dbd6436-8f5a-4b96-ae8c-98231621923a');\n",
              "          const dataTable =\n",
              "            await google.colab.kernel.invokeFunction('convertToInteractive',\n",
              "                                                     [key], {});\n",
              "          if (!dataTable) return;\n",
              "\n",
              "          const docLinkHtml = 'Like what you see? Visit the ' +\n",
              "            '<a target=\"_blank\" href=https://colab.research.google.com/notebooks/data_table.ipynb>data table notebook</a>'\n",
              "            + ' to learn more about interactive tables.';\n",
              "          element.innerHTML = '';\n",
              "          dataTable['output_type'] = 'display_data';\n",
              "          await google.colab.output.renderOutput(dataTable, element);\n",
              "          const docLink = document.createElement('div');\n",
              "          docLink.innerHTML = docLinkHtml;\n",
              "          element.appendChild(docLink);\n",
              "        }\n",
              "      </script>\n",
              "    </div>\n",
              "  </div>\n",
              "  "
            ]
          },
          "metadata": {},
          "execution_count": 3
        }
      ]
    },
    {
      "cell_type": "code",
      "source": [
        "l = []\n",
        "for i in range(len(df)):\n",
        "  if df['년도'][i] == df['입학년도'][i]:\n",
        "    if (df['학기'][i] == '1학기') or (df['학기'][i] == '2학기'):\n",
        "      l.append(i)"
      ],
      "metadata": {
        "id": "XXToL-B6Mvsy"
      },
      "execution_count": null,
      "outputs": []
    },
    {
      "cell_type": "code",
      "source": [
        "len(l)"
      ],
      "metadata": {
        "id": "RR1BXsVAcgQS"
      },
      "execution_count": null,
      "outputs": []
    },
    {
      "cell_type": "code",
      "source": [
        "df2 = df.loc[l, :]\n",
        "df2"
      ],
      "metadata": {
        "colab": {
          "base_uri": "https://localhost:8080/",
          "height": 193
        },
        "id": "jInHzNPIcjzG",
        "outputId": "45ce4180-8d30-4ac2-e86e-4c3bb11c818f"
      },
      "execution_count": null,
      "outputs": [
        {
          "output_type": "error",
          "ename": "NameError",
          "evalue": "ignored",
          "traceback": [
            "\u001b[0;31m---------------------------------------------------------------------------\u001b[0m",
            "\u001b[0;31mNameError\u001b[0m                                 Traceback (most recent call last)",
            "\u001b[0;32m<ipython-input-5-d8e5704c43ac>\u001b[0m in \u001b[0;36m<module>\u001b[0;34m()\u001b[0m\n\u001b[0;32m----> 1\u001b[0;31m \u001b[0mdf2\u001b[0m \u001b[0;34m=\u001b[0m \u001b[0mdf\u001b[0m\u001b[0;34m.\u001b[0m\u001b[0mloc\u001b[0m\u001b[0;34m[\u001b[0m\u001b[0ml\u001b[0m\u001b[0;34m,\u001b[0m \u001b[0;34m:\u001b[0m\u001b[0;34m]\u001b[0m\u001b[0;34m\u001b[0m\u001b[0;34m\u001b[0m\u001b[0m\n\u001b[0m\u001b[1;32m      2\u001b[0m \u001b[0mdf2\u001b[0m\u001b[0;34m\u001b[0m\u001b[0;34m\u001b[0m\u001b[0m\n",
            "\u001b[0;31mNameError\u001b[0m: name 'l' is not defined"
          ]
        }
      ]
    },
    {
      "cell_type": "code",
      "source": [
        "df3 = df[['성별', '학부/과코드', '제1전공코드', '제2전공코드', '입학구분', '전형구분',\n",
        "       '세부전형정보', '동아리', '국장유무', '받은국장금액', '국장외 장학금', '국장외장학금 수령금액', '봉사시간',\n",
        "       '학술활동', '교환학생', '전공성적평균', '교양성적평균', '기타성적평균', '공통_영어평균', '공통_종교평균',\n",
        "       '공통_팀플평균', '공통_봉사평균', '공통_1학년과목평균', 'label',\n",
        "       '출신고교인덱스', '출신고교지역인덱스']]"
      ],
      "metadata": {
        "id": "rqsMQjiVdD_T"
      },
      "execution_count": null,
      "outputs": []
    },
    {
      "cell_type": "markdown",
      "source": [
        "29 , 1"
      ],
      "metadata": {
        "id": "mukvm-VQdL3S"
      }
    },
    {
      "cell_type": "code",
      "source": [
        "X_data = df3.drop('label', axis=1)\n",
        "y_data = df3['label']\n",
        "X_train, X_test, y_train, y_test = train_test_split(X_data, y_data, test_size=0.3, random_state=7)\n",
        "print(X_train.shape, y_train.shape, X_test.shape, y_test.shape)"
      ],
      "metadata": {
        "colab": {
          "base_uri": "https://localhost:8080/"
        },
        "id": "pqiDm9RHdO6D",
        "outputId": "76c080cf-3b76-4da5-8bec-58d553ced779"
      },
      "execution_count": null,
      "outputs": [
        {
          "output_type": "stream",
          "name": "stdout",
          "text": [
            "(27125, 25) (27125,) (11626, 25) (11626,)\n"
          ]
        }
      ]
    },
    {
      "cell_type": "code",
      "source": [
        "forest = RandomForestClassifier(n_estimators=100)\n",
        "forest.fit(X_train, y_train)\n",
        "\n",
        "# y_pred = forest.predict(X_test)\n",
        "# print(y_pred)\n",
        "# print(list(y_test))\n",
        "\n",
        "# print('정확도:',metrics.accuracy_score(y_test, y_pred))\n",
        "\n",
        "from sklearn import metrics\n",
        "y_pred = forest.predict(X_test)\n",
        "print('정확도:',metrics.accuracy_score(y_test, y_pred))\n",
        "print('precision:', metrics.precision_score(y_test, y_pred))#, average='macro'))\n",
        "print('recall:', metrics.recall_score(y_test, y_pred))#, average='macro'))\n",
        "print('f1_score:', metrics.f1_score(y_test, y_pred))#, average='macro'))"
      ],
      "metadata": {
        "colab": {
          "base_uri": "https://localhost:8080/"
        },
        "id": "6U5lIigMfdc5",
        "outputId": "ba2ff9ae-82f8-4cde-ea69-df8b98dffb2e"
      },
      "execution_count": null,
      "outputs": [
        {
          "output_type": "stream",
          "name": "stdout",
          "text": [
            "정확도: 0.9882160674350593\n",
            "precision: 0.0\n",
            "recall: 0.0\n",
            "f1_score: 0.0\n"
          ]
        },
        {
          "output_type": "stream",
          "name": "stderr",
          "text": [
            "/usr/local/lib/python3.7/dist-packages/sklearn/metrics/_classification.py:1318: UndefinedMetricWarning: Precision is ill-defined and being set to 0.0 due to no predicted samples. Use `zero_division` parameter to control this behavior.\n",
            "  _warn_prf(average, modifier, msg_start, len(result))\n"
          ]
        }
      ]
    },
    {
      "cell_type": "code",
      "source": [
        "from sklearn import metrics\n",
        "print('precision:', metrics.precision_score(y_test, y_pred))\n",
        "print('recall:', metrics.recall_score(y_test, y_pred))\n",
        "print('f1_score:', metrics.f1_score(y_test, y_pred))"
      ],
      "metadata": {
        "colab": {
          "base_uri": "https://localhost:8080/"
        },
        "id": "89VALq8KnB1Q",
        "outputId": "1068d624-a615-40fd-9be3-a364a5445bc1"
      },
      "execution_count": null,
      "outputs": [
        {
          "output_type": "stream",
          "name": "stdout",
          "text": [
            "precision: 0.9982181040627227\n",
            "recall: 0.9996431120628123\n",
            "f1_score: 0.9989300998573466\n"
          ]
        }
      ]
    },
    {
      "cell_type": "markdown",
      "source": [
        ""
      ],
      "metadata": {
        "id": "heXnfVomtFQV"
      }
    },
    {
      "cell_type": "markdown",
      "source": [
        ""
      ],
      "metadata": {
        "id": "C904FdPqxItI"
      }
    },
    {
      "cell_type": "code",
      "source": [
        "cnt = 0\n",
        "for i in y_pred:\n",
        "  if i == 1:\n",
        "    cnt += 1\n",
        "print(cnt)"
      ],
      "metadata": {
        "colab": {
          "base_uri": "https://localhost:8080/"
        },
        "id": "5f4NAen_pAxj",
        "outputId": "7c634f1c-6c7a-4e64-bbc1-419306b4481f"
      },
      "execution_count": null,
      "outputs": [
        {
          "output_type": "stream",
          "name": "stdout",
          "text": [
            "3299\n"
          ]
        }
      ]
    },
    {
      "cell_type": "code",
      "source": [
        "y_test.shape"
      ],
      "metadata": {
        "colab": {
          "base_uri": "https://localhost:8080/"
        },
        "id": "X6_UbxjDRaoS",
        "outputId": "f712b132-5d58-440b-bfef-06df1228f46c"
      },
      "execution_count": null,
      "outputs": [
        {
          "output_type": "execute_result",
          "data": {
            "text/plain": [
              "(16389,)"
            ]
          },
          "metadata": {},
          "execution_count": 994
        }
      ]
    },
    {
      "cell_type": "code",
      "source": [
        "cnt = 0\n",
        "for i in y_test:\n",
        "  if i == 1:\n",
        "    cnt += 1\n",
        "print(cnt)\n"
      ],
      "metadata": {
        "colab": {
          "base_uri": "https://localhost:8080/"
        },
        "id": "zE9lxKQzROLZ",
        "outputId": "92be4912-3439-463a-ec2b-021dd76b7558"
      },
      "execution_count": null,
      "outputs": [
        {
          "output_type": "stream",
          "name": "stdout",
          "text": [
            "2966\n"
          ]
        }
      ]
    },
    {
      "cell_type": "code",
      "source": [
        "y_test"
      ],
      "metadata": {
        "colab": {
          "base_uri": "https://localhost:8080/"
        },
        "id": "2xwS4Pl_RdOW",
        "outputId": "a906695b-a1eb-4f71-c7a4-6231f4a49213"
      },
      "execution_count": null,
      "outputs": [
        {
          "output_type": "execute_result",
          "data": {
            "text/plain": [
              "9121     0\n",
              "33449    0\n",
              "632      0\n",
              "31676    1\n",
              "652      1\n",
              "        ..\n",
              "34683    0\n",
              "37710    0\n",
              "17699    0\n",
              "5847     1\n",
              "15407    0\n",
              "Name: 학적상태, Length: 16446, dtype: int64"
            ]
          },
          "metadata": {},
          "execution_count": 52
        }
      ]
    },
    {
      "cell_type": "code",
      "source": [
        "(df1['성별코드'] == 1 ) & (df['학적상태'] == 0)"
      ],
      "metadata": {
        "id": "XnhMl0YCf5cK",
        "colab": {
          "base_uri": "https://localhost:8080/"
        },
        "outputId": "2208c963-6eb1-4479-f005-4a09929670e6"
      },
      "execution_count": null,
      "outputs": [
        {
          "output_type": "execute_result",
          "data": {
            "text/plain": [
              "0         True\n",
              "1        False\n",
              "2        False\n",
              "3        False\n",
              "4        False\n",
              "         ...  \n",
              "54813     True\n",
              "54814     True\n",
              "54815     True\n",
              "54816    False\n",
              "54817     True\n",
              "Name: 성별코드, Length: 54818, dtype: bool"
            ]
          },
          "metadata": {},
          "execution_count": 27
        }
      ]
    },
    {
      "cell_type": "code",
      "source": [
        ""
      ],
      "metadata": {
        "id": "JaydQmkYpvja"
      },
      "execution_count": null,
      "outputs": []
    }
  ]
}