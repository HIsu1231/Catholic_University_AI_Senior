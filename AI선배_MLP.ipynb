{
  "nbformat": 4,
  "nbformat_minor": 0,
  "metadata": {
    "colab": {
      "name": "AI선배_MLP.ipynb",
      "provenance": [],
      "collapsed_sections": [],
      "include_colab_link": true
    },
    "kernelspec": {
      "name": "python3",
      "display_name": "Python 3"
    },
    "language_info": {
      "name": "python"
    },
    "accelerator": "GPU"
  },
  "cells": [
    {
      "cell_type": "markdown",
      "metadata": {
        "id": "view-in-github",
        "colab_type": "text"
      },
      "source": [
        "<a href=\"https://colab.research.google.com/github/HIsu1231/Catholic_University_AI_Senior/blob/main/AI%EC%84%A0%EB%B0%B0_MLP.ipynb\" target=\"_parent\"><img src=\"https://colab.research.google.com/assets/colab-badge.svg\" alt=\"Open In Colab\"/></a>"
      ]
    },
    {
      "cell_type": "code",
      "source": [
        "import pandas as pd\n",
        "import numpy as np\n",
        "from sklearn.model_selection import train_test_split\n",
        "\n",
        "#df = pd.read_csv('/content/drive/MyDrive/AI선배/220523_1학년1학기_전처리최종_ai선배_v3.0_노수민.csv')"
      ],
      "metadata": {
        "id": "NtY4uiovBgh0"
      },
      "execution_count": null,
      "outputs": []
    },
    {
      "cell_type": "code",
      "source": [
        "from google.colab import drive\n",
        "drive.mount('/content/drive')"
      ],
      "metadata": {
        "colab": {
          "base_uri": "https://localhost:8080/"
        },
        "id": "nq-d8jl969ST",
        "outputId": "38aa614f-7391-411e-845a-6c34b5152ae3"
      },
      "execution_count": null,
      "outputs": [
        {
          "output_type": "stream",
          "name": "stdout",
          "text": [
            "Mounted at /content/drive\n"
          ]
        }
      ]
    },
    {
      "cell_type": "code",
      "source": [
        "df = pd.read_csv('/content/drive/MyDrive/AI선배/AI data/220529_3학년2학기_전처리최종_ai선배_v3.0_노수민.csv')\n",
        "df1 = df[['성별', '학부/과코드', '제1전공코드', '입학구분', '전형구분',\n",
        "       '세부전형정보', '동아리', '국장유무', '받은국장금액', '국장외 장학금', '국장외장학금 수령금액', '봉사시간',\n",
        "       '학술활동', '교환학생', '전공성적평균', '교양성적평균', '기타성적평균', '공통_영어평균', '공통_종교평균',\n",
        "       '공통_팀플평균', '공통_봉사평균', '공통_1학년과목평균', 'label',\n",
        "       '출신고교인덱스', '출신고교지역인덱스']]"
      ],
      "metadata": {
        "id": "BiuqT47IBsBZ"
      },
      "execution_count": null,
      "outputs": []
    },
    {
      "cell_type": "code",
      "source": [
        "df1.dropna(inplace=True)"
      ],
      "metadata": {
        "id": "1PxFj7vmDm0t",
        "colab": {
          "base_uri": "https://localhost:8080/"
        },
        "outputId": "30f5a7db-01f8-4feb-c02a-6a6176ac02e2"
      },
      "execution_count": null,
      "outputs": [
        {
          "output_type": "stream",
          "name": "stderr",
          "text": [
            "/usr/local/lib/python3.7/dist-packages/pandas/util/_decorators.py:311: SettingWithCopyWarning: \n",
            "A value is trying to be set on a copy of a slice from a DataFrame\n",
            "\n",
            "See the caveats in the documentation: https://pandas.pydata.org/pandas-docs/stable/user_guide/indexing.html#returning-a-view-versus-a-copy\n",
            "  return func(*args, **kwargs)\n"
          ]
        }
      ]
    },
    {
      "cell_type": "code",
      "source": [
        "X_data = df1.drop('label', axis=1)\n",
        "y_data = df1['label']\n",
        "\n",
        "X_train, X_test, y_train, y_test = train_test_split(X_data, y_data, test_size=0.3, random_state=7)\n",
        "print(X_train.shape, y_train.shape, X_test.shape, y_test.shape)"
      ],
      "metadata": {
        "colab": {
          "base_uri": "https://localhost:8080/"
        },
        "id": "hLM71fR7Btpg",
        "outputId": "b47a6d00-bd60-4b45-ce57-fc590ab97ecf"
      },
      "execution_count": null,
      "outputs": [
        {
          "output_type": "stream",
          "name": "stdout",
          "text": [
            "(25407, 24) (25407,) (10890, 24) (10890,)\n"
          ]
        }
      ]
    },
    {
      "cell_type": "code",
      "source": [
        "from keras.models import Sequential\n",
        "model = Sequential()"
      ],
      "metadata": {
        "id": "pMA0gvLqB_5u"
      },
      "execution_count": null,
      "outputs": []
    },
    {
      "cell_type": "code",
      "source": [
        "from keras.layers import Activation, Dense\n",
        "\n",
        "model.add(Dense(200, input_shape = (24,), activation = 'sigmoid'))\n",
        "model.add(Dense(100, activation = 'sigmoid'))\n",
        "model.add(Dense(100, activation = 'sigmoid'))\n",
        "model.add(Dense(50, activation = 'sigmoid'))\n",
        "model.add(Dense(10, activation = 'sigmoid'))\n",
        "model.add(Dense(1, activation = 'sigmoid'))"
      ],
      "metadata": {
        "id": "SOCZCtfsC3i7"
      },
      "execution_count": null,
      "outputs": []
    },
    {
      "cell_type": "code",
      "source": [
        "import tensorflow as tf\n",
        "from keras import optimizers\n",
        "sgd = tf.keras.optimizers.Adam(learning_rate = 0.0001)\n",
        "model.compile(optimizer = sgd, loss = 'binary_crossentropy', metrics=['acc'])"
      ],
      "metadata": {
        "id": "en6eXtKBDBhD"
      },
      "execution_count": null,
      "outputs": []
    },
    {
      "cell_type": "code",
      "source": [
        "model.summary()"
      ],
      "metadata": {
        "colab": {
          "base_uri": "https://localhost:8080/"
        },
        "id": "6AwwkCS-DM-R",
        "outputId": "00ef73cb-b2b2-4a10-ee78-5b26f1700e43"
      },
      "execution_count": null,
      "outputs": [
        {
          "output_type": "stream",
          "name": "stdout",
          "text": [
            "Model: \"sequential\"\n",
            "_________________________________________________________________\n",
            " Layer (type)                Output Shape              Param #   \n",
            "=================================================================\n",
            " dense (Dense)               (None, 200)               5000      \n",
            "                                                                 \n",
            " dense_1 (Dense)             (None, 100)               20100     \n",
            "                                                                 \n",
            " dense_2 (Dense)             (None, 100)               10100     \n",
            "                                                                 \n",
            " dense_3 (Dense)             (None, 50)                5050      \n",
            "                                                                 \n",
            " dense_4 (Dense)             (None, 10)                510       \n",
            "                                                                 \n",
            " dense_5 (Dense)             (None, 1)                 11        \n",
            "                                                                 \n",
            "=================================================================\n",
            "Total params: 40,771\n",
            "Trainable params: 40,771\n",
            "Non-trainable params: 0\n",
            "_________________________________________________________________\n"
          ]
        }
      ]
    },
    {
      "cell_type": "code",
      "source": [
        "model.fit(X_train, y_train, batch_size = 50, epochs = 30, verbose = 1)"
      ],
      "metadata": {
        "colab": {
          "base_uri": "https://localhost:8080/"
        },
        "id": "6xWp6pSIDd7t",
        "outputId": "8a03a089-7a54-4bb1-84a9-41407ff0ebd5"
      },
      "execution_count": null,
      "outputs": [
        {
          "output_type": "stream",
          "name": "stdout",
          "text": [
            "Epoch 1/30\n",
            "509/509 [==============================] - 3s 5ms/step - loss: 0.1636 - acc: 0.9937\n",
            "Epoch 2/30\n",
            "509/509 [==============================] - 2s 4ms/step - loss: 0.1363 - acc: 0.9937\n",
            "Epoch 3/30\n",
            "509/509 [==============================] - 2s 3ms/step - loss: 0.1123 - acc: 0.9937\n",
            "Epoch 4/30\n",
            "509/509 [==============================] - 2s 3ms/step - loss: 0.0929 - acc: 0.9937\n",
            "Epoch 5/30\n",
            "509/509 [==============================] - 2s 3ms/step - loss: 0.0799 - acc: 0.9937\n",
            "Epoch 6/30\n",
            "509/509 [==============================] - 2s 4ms/step - loss: 0.0704 - acc: 0.9937\n",
            "Epoch 7/30\n",
            "509/509 [==============================] - 2s 3ms/step - loss: 0.0630 - acc: 0.9937\n",
            "Epoch 8/30\n",
            "509/509 [==============================] - 2s 3ms/step - loss: 0.0572 - acc: 0.9937\n",
            "Epoch 9/30\n",
            "509/509 [==============================] - 2s 3ms/step - loss: 0.0527 - acc: 0.9937\n",
            "Epoch 10/30\n",
            "509/509 [==============================] - 2s 3ms/step - loss: 0.0492 - acc: 0.9937\n",
            "Epoch 11/30\n",
            "509/509 [==============================] - 2s 3ms/step - loss: 0.0464 - acc: 0.9937\n",
            "Epoch 12/30\n",
            "509/509 [==============================] - 2s 3ms/step - loss: 0.0442 - acc: 0.9937\n",
            "Epoch 13/30\n",
            "509/509 [==============================] - 2s 3ms/step - loss: 0.0425 - acc: 0.9937\n",
            "Epoch 14/30\n",
            "509/509 [==============================] - 2s 3ms/step - loss: 0.0412 - acc: 0.9937\n",
            "Epoch 15/30\n",
            "509/509 [==============================] - 2s 3ms/step - loss: 0.0403 - acc: 0.9937\n",
            "Epoch 16/30\n",
            "509/509 [==============================] - 2s 3ms/step - loss: 0.0396 - acc: 0.9937\n",
            "Epoch 17/30\n",
            "509/509 [==============================] - 2s 3ms/step - loss: 0.0391 - acc: 0.9937\n",
            "Epoch 18/30\n",
            "509/509 [==============================] - 2s 3ms/step - loss: 0.0387 - acc: 0.9937\n",
            "Epoch 19/30\n",
            "509/509 [==============================] - 2s 3ms/step - loss: 0.0385 - acc: 0.9937\n",
            "Epoch 20/30\n",
            "509/509 [==============================] - 2s 3ms/step - loss: 0.0383 - acc: 0.9937\n",
            "Epoch 21/30\n",
            "509/509 [==============================] - 2s 3ms/step - loss: 0.0382 - acc: 0.9937\n",
            "Epoch 22/30\n",
            "509/509 [==============================] - 2s 3ms/step - loss: 0.0381 - acc: 0.9937\n",
            "Epoch 23/30\n",
            "509/509 [==============================] - 2s 3ms/step - loss: 0.0381 - acc: 0.9937\n",
            "Epoch 24/30\n",
            "509/509 [==============================] - 2s 4ms/step - loss: 0.0381 - acc: 0.9937\n",
            "Epoch 25/30\n",
            "509/509 [==============================] - 2s 4ms/step - loss: 0.0380 - acc: 0.9937\n",
            "Epoch 26/30\n",
            "509/509 [==============================] - 2s 3ms/step - loss: 0.0380 - acc: 0.9937\n",
            "Epoch 27/30\n",
            "509/509 [==============================] - 2s 3ms/step - loss: 0.0380 - acc: 0.9937\n",
            "Epoch 28/30\n",
            "509/509 [==============================] - 2s 3ms/step - loss: 0.0380 - acc: 0.9937\n",
            "Epoch 29/30\n",
            "509/509 [==============================] - 2s 3ms/step - loss: 0.0380 - acc: 0.9937\n",
            "Epoch 30/30\n",
            "509/509 [==============================] - 2s 3ms/step - loss: 0.0380 - acc: 0.9937\n"
          ]
        },
        {
          "output_type": "execute_result",
          "data": {
            "text/plain": [
              "<keras.callbacks.History at 0x7f5c0184f890>"
            ]
          },
          "metadata": {},
          "execution_count": 12
        }
      ]
    },
    {
      "cell_type": "code",
      "source": [
        "# results = model.evaluate(X_test, y_test)\n",
        "\n",
        "# print(model.metrics_names)\n",
        "# print(results)\n",
        "from sklearn import metrics\n",
        "y_pred = model.predict(X_test)\n",
        "print('정확도:',metrics.accuracy_score(y_test, y_pred))\n",
        "print('precision:', metrics.precision_score(y_test, y_pred))#, average='macro'))\n",
        "print('recall:', metrics.recall_score(y_test, y_pred))#, average='macro'))\n",
        "print('f1_score:', metrics.f1_score(y_test, y_pred))#, average='macro'))"
      ],
      "metadata": {
        "colab": {
          "base_uri": "https://localhost:8080/",
          "height": 405
        },
        "id": "MLuVkaSUDgu_",
        "outputId": "b15b0cc3-ec78-428a-8149-067b0a9d5759"
      },
      "execution_count": null,
      "outputs": [
        {
          "output_type": "error",
          "ename": "ValueError",
          "evalue": "ignored",
          "traceback": [
            "\u001b[0;31m---------------------------------------------------------------------------\u001b[0m",
            "\u001b[0;31mValueError\u001b[0m                                Traceback (most recent call last)",
            "\u001b[0;32m<ipython-input-31-6b75e1b1ad2f>\u001b[0m in \u001b[0;36m<module>\u001b[0;34m()\u001b[0m\n\u001b[1;32m      5\u001b[0m \u001b[0;32mfrom\u001b[0m \u001b[0msklearn\u001b[0m \u001b[0;32mimport\u001b[0m \u001b[0mmetrics\u001b[0m\u001b[0;34m\u001b[0m\u001b[0;34m\u001b[0m\u001b[0m\n\u001b[1;32m      6\u001b[0m \u001b[0my_pred\u001b[0m \u001b[0;34m=\u001b[0m \u001b[0mmodel\u001b[0m\u001b[0;34m.\u001b[0m\u001b[0mpredict\u001b[0m\u001b[0;34m(\u001b[0m\u001b[0mX_test\u001b[0m\u001b[0;34m)\u001b[0m\u001b[0;34m\u001b[0m\u001b[0;34m\u001b[0m\u001b[0m\n\u001b[0;32m----> 7\u001b[0;31m \u001b[0mprint\u001b[0m\u001b[0;34m(\u001b[0m\u001b[0;34m'정확도:'\u001b[0m\u001b[0;34m,\u001b[0m\u001b[0mmetrics\u001b[0m\u001b[0;34m.\u001b[0m\u001b[0maccuracy_score\u001b[0m\u001b[0;34m(\u001b[0m\u001b[0my_test\u001b[0m\u001b[0;34m,\u001b[0m \u001b[0my_pred\u001b[0m\u001b[0;34m)\u001b[0m\u001b[0;34m)\u001b[0m\u001b[0;34m\u001b[0m\u001b[0;34m\u001b[0m\u001b[0m\n\u001b[0m\u001b[1;32m      8\u001b[0m \u001b[0mprint\u001b[0m\u001b[0;34m(\u001b[0m\u001b[0;34m'precision:'\u001b[0m\u001b[0;34m,\u001b[0m \u001b[0mmetrics\u001b[0m\u001b[0;34m.\u001b[0m\u001b[0mprecision_score\u001b[0m\u001b[0;34m(\u001b[0m\u001b[0my_test\u001b[0m\u001b[0;34m,\u001b[0m \u001b[0my_pred\u001b[0m\u001b[0;34m)\u001b[0m\u001b[0;34m)\u001b[0m\u001b[0;31m#, average='macro'))\u001b[0m\u001b[0;34m\u001b[0m\u001b[0;34m\u001b[0m\u001b[0m\n\u001b[1;32m      9\u001b[0m \u001b[0mprint\u001b[0m\u001b[0;34m(\u001b[0m\u001b[0;34m'recall:'\u001b[0m\u001b[0;34m,\u001b[0m \u001b[0mmetrics\u001b[0m\u001b[0;34m.\u001b[0m\u001b[0mrecall_score\u001b[0m\u001b[0;34m(\u001b[0m\u001b[0my_test\u001b[0m\u001b[0;34m,\u001b[0m \u001b[0my_pred\u001b[0m\u001b[0;34m)\u001b[0m\u001b[0;34m)\u001b[0m\u001b[0;31m#, average='macro'))\u001b[0m\u001b[0;34m\u001b[0m\u001b[0;34m\u001b[0m\u001b[0m\n",
            "\u001b[0;32m/usr/local/lib/python3.7/dist-packages/sklearn/metrics/_classification.py\u001b[0m in \u001b[0;36maccuracy_score\u001b[0;34m(y_true, y_pred, normalize, sample_weight)\u001b[0m\n\u001b[1;32m    209\u001b[0m \u001b[0;34m\u001b[0m\u001b[0m\n\u001b[1;32m    210\u001b[0m     \u001b[0;31m# Compute accuracy for each possible representation\u001b[0m\u001b[0;34m\u001b[0m\u001b[0;34m\u001b[0m\u001b[0;34m\u001b[0m\u001b[0m\n\u001b[0;32m--> 211\u001b[0;31m     \u001b[0my_type\u001b[0m\u001b[0;34m,\u001b[0m \u001b[0my_true\u001b[0m\u001b[0;34m,\u001b[0m \u001b[0my_pred\u001b[0m \u001b[0;34m=\u001b[0m \u001b[0m_check_targets\u001b[0m\u001b[0;34m(\u001b[0m\u001b[0my_true\u001b[0m\u001b[0;34m,\u001b[0m \u001b[0my_pred\u001b[0m\u001b[0;34m)\u001b[0m\u001b[0;34m\u001b[0m\u001b[0;34m\u001b[0m\u001b[0m\n\u001b[0m\u001b[1;32m    212\u001b[0m     \u001b[0mcheck_consistent_length\u001b[0m\u001b[0;34m(\u001b[0m\u001b[0my_true\u001b[0m\u001b[0;34m,\u001b[0m \u001b[0my_pred\u001b[0m\u001b[0;34m,\u001b[0m \u001b[0msample_weight\u001b[0m\u001b[0;34m)\u001b[0m\u001b[0;34m\u001b[0m\u001b[0;34m\u001b[0m\u001b[0m\n\u001b[1;32m    213\u001b[0m     \u001b[0;32mif\u001b[0m \u001b[0my_type\u001b[0m\u001b[0;34m.\u001b[0m\u001b[0mstartswith\u001b[0m\u001b[0;34m(\u001b[0m\u001b[0;34m\"multilabel\"\u001b[0m\u001b[0;34m)\u001b[0m\u001b[0;34m:\u001b[0m\u001b[0;34m\u001b[0m\u001b[0;34m\u001b[0m\u001b[0m\n",
            "\u001b[0;32m/usr/local/lib/python3.7/dist-packages/sklearn/metrics/_classification.py\u001b[0m in \u001b[0;36m_check_targets\u001b[0;34m(y_true, y_pred)\u001b[0m\n\u001b[1;32m     93\u001b[0m         raise ValueError(\n\u001b[1;32m     94\u001b[0m             \"Classification metrics can't handle a mix of {0} and {1} targets\".format(\n\u001b[0;32m---> 95\u001b[0;31m                 \u001b[0mtype_true\u001b[0m\u001b[0;34m,\u001b[0m \u001b[0mtype_pred\u001b[0m\u001b[0;34m\u001b[0m\u001b[0;34m\u001b[0m\u001b[0m\n\u001b[0m\u001b[1;32m     96\u001b[0m             )\n\u001b[1;32m     97\u001b[0m         )\n",
            "\u001b[0;31mValueError\u001b[0m: Classification metrics can't handle a mix of binary and continuous targets"
          ]
        }
      ]
    },
    {
      "cell_type": "code",
      "source": [
        ""
      ],
      "metadata": {
        "id": "wOmC5NgcIIe6"
      },
      "execution_count": null,
      "outputs": []
    }
  ]
}